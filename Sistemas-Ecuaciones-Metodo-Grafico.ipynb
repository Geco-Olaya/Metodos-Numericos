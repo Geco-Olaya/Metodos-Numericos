{
 "metadata": {
  "name": ""
 },
 "nbformat": 3,
 "nbformat_minor": 0,
 "worksheets": [
  {
   "cells": [
    {
     "cell_type": "code",
     "collapsed": false,
     "input": [
      "import matplotlib.pyplot as plt\n",
      "\n",
      "values, func1, func2=[],[],[]\n",
      "a,b,c=0,0,0\n",
      "\n",
      "for i in range (10):\n",
      "    x2=((-3.0/2.0)*i)+9.0\n",
      "    x2b=((1.0/2.0)*i)+1.0\n",
      "    values.append(i)\n",
      "    func1.append(x2)\n",
      "    func2.append(x2b)\n",
      "\n",
      "while c<=10:\n",
      "    fx1=(-1*a)-3*a+18\n",
      "    fx2=(6*b)-6+2*b\n",
      "    if(fx1==2):\n",
      "        print \"La solucion para X1= %d\"%a\n",
      "        punt1=a\n",
      "    if(fx2==18):\n",
      "        print \"La solucion para X2= %d\"%b\n",
      "        punt2=b\n",
      "    a+=1\n",
      "    b+=1\n",
      "    c+=1\n",
      "    \n",
      "plt.title(\"Sistema de ecuaciones\")\n",
      "plt.grid(True)\n",
      "plt.axis([0,10,0,10])\n",
      "plt.ylabel('x2')\n",
      "plt.xlabel('x1')\n",
      "plt.plot(values, func1, 'm-', linewidth=1.5)\n",
      "plt.plot(values, func2, 'y-',linewidth=1.5)\n",
      "plt.plot(punt1,punt2, 'cs', label=\"Pto corte:\\nx1=4\\nx2=3\")\n",
      "plt.legend(loc = 'upper right', numpoints = 1)\n",
      "plt.show()"
     ],
     "language": "python",
     "metadata": {},
     "outputs": [
      {
       "output_type": "stream",
       "stream": "stdout",
       "text": [
        "La solucion para X2= 3\n",
        "La solucion para X1= 4\n"
       ]
      }
     ],
     "prompt_number": 5
    },
    {
     "cell_type": "code",
     "collapsed": false,
     "input": [],
     "language": "python",
     "metadata": {},
     "outputs": [],
     "prompt_number": 4
    },
    {
     "cell_type": "code",
     "collapsed": false,
     "input": [],
     "language": "python",
     "metadata": {},
     "outputs": []
    }
   ],
   "metadata": {}
  }
 ]
}