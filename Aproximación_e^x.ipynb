{
 "metadata": {
  "name": ""
 },
 "nbformat": 3,
 "nbformat_minor": 0,
 "worksheets": [
  {
   "cells": [
    {
     "cell_type": "code",
     "collapsed": false,
     "input": [
      "import math\n",
      "from tabulate import tabulate\n",
      "e=0.0\n",
      "n=0\n",
      "Et=0.0\n",
      "et=0.0\n",
      "ea=0.0\n",
      "es=0.05  \n",
      "tab=[]\n",
      "   \n",
      "while True: \n",
      "    e2=e\n",
      "    e += ((1.0/2.0)**n)/math.factorial(n)\n",
      "    Et=(math.exp(1/2))-e\n",
      "    et=(Et/e)*100\n",
      "    ea=((e-e2)/e)*100\n",
      "    n = n+1\n",
      "    cont =n-1\n",
      "    \n",
      "    tab.append([cont,e,et,ea])\n",
      "   \n",
      "    if str(ea)<=str(es):\n",
      "        break \n",
      "\n",
      "print tabulate(tab,headers=[\"Cont\",\"Valor Aproximado\", \"et\", \"Err. Aprox\"])"
     ],
     "language": "python",
     "metadata": {},
     "outputs": [
      {
       "output_type": "stream",
       "stream": "stdout",
       "text": [
        "  Cont    Valor Aproximado        et    Err. Aprox\n",
        "------  ------------------  --------  ------------\n",
        "     0             1          0        100\n",
        "     1             1.5      -33.3333    33.3333\n",
        "     2             1.625    -38.4615     7.69231\n",
        "     3             1.64583  -39.2405     1.26582\n",
        "     4             1.64844  -39.3365     0.157978\n",
        "     5             1.6487   -39.3461     0.0157953\n"
       ]
      }
     ],
     "prompt_number": 9
    },
    {
     "cell_type": "code",
     "collapsed": false,
     "input": [],
     "language": "python",
     "metadata": {},
     "outputs": []
    }
   ],
   "metadata": {}
  }
 ]
}