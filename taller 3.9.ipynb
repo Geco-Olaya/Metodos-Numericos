{
 "metadata": {
  "name": ""
 },
 "nbformat": 3,
 "nbformat_minor": 0,
 "worksheets": [
  {
   "cells": [
    {
     "cell_type": "code",
     "collapsed": false,
     "input": [
      "import math\n",
      "from tabulate import tabulate\n",
      "\n",
      "x=math.radians((0.3)*180)\n",
      "coseno=math.cos(x)\n",
      "valor=round(coseno,8)\n",
      "v2=0.0\n",
      "ant=[]\n",
      "vA=[]\n",
      "tabla=[]\n",
      "i=0\n",
      "print \"Soluci\u00f3n coseno  series de McClaurin:\\n\"\n",
      "while 1:\n",
      "    if(i%2==0):\n",
      "        v = (math.pow(x, (i*2)))/math.factorial(i*2)\n",
      "        valueAnt = v2\n",
      "        v2+=v\n",
      "        ant.append(valueAnt)\n",
      "        vA.append(v2)\n",
      "    else:\n",
      "        v = (math.pow(x, (i*2)))/math.factorial(i*2)\n",
      "        valueAnt = v2\n",
      "        v2-=v\n",
      "        ant.append(valueAnt)\n",
      "        vA.append(v2)\n",
      "    print v2\n",
      "    tabla.append([vA[i]])\n",
      "    i+=1\n",
      "    if(round(v2, 8)==valor):\n",
      "        break\n",
      "print\"\\nTabla cifras significativas:\\n\"\n",
      "print tabulate(tabla, headers=[\"Coseno \"], tablefmt=\"fancy_grid\")"
     ],
     "language": "python",
     "metadata": {},
     "outputs": [
      {
       "output_type": "stream",
       "stream": "stdout",
       "text": [
        "Soluci\u00f3n coseno  series de McClaurin:\n",
        "\n",
        "1.0\n",
        "0.555867801951\n",
        "0.588743370175\n",
        "0.587769963616\n",
        "0.587785403659\n",
        "0.587785251272\n",
        "\n",
        "Tabla cifras significativas:\n",
        "\n",
        "\u2552\u2550\u2550\u2550\u2550\u2550\u2550\u2550\u2550\u2550\u2550\u2550\u2555\n",
        "\u2502   Coseno  \u2502\n",
        "\u255e\u2550\u2550\u2550\u2550\u2550\u2550\u2550\u2550\u2550\u2550\u2550\u2561\n",
        "\u2502  1        \u2502\n",
        "\u251c\u2500\u2500\u2500\u2500\u2500\u2500\u2500\u2500\u2500\u2500\u2500\u2524\n",
        "\u2502  0.555868 \u2502\n",
        "\u251c\u2500\u2500\u2500\u2500\u2500\u2500\u2500\u2500\u2500\u2500\u2500\u2524\n",
        "\u2502  0.588743 \u2502\n",
        "\u251c\u2500\u2500\u2500\u2500\u2500\u2500\u2500\u2500\u2500\u2500\u2500\u2524\n",
        "\u2502  0.58777  \u2502\n",
        "\u251c\u2500\u2500\u2500\u2500\u2500\u2500\u2500\u2500\u2500\u2500\u2500\u2524\n",
        "\u2502  0.587785 \u2502\n",
        "\u251c\u2500\u2500\u2500\u2500\u2500\u2500\u2500\u2500\u2500\u2500\u2500\u2524\n",
        "\u2502  0.587785 \u2502\n",
        "\u2558\u2550\u2550\u2550\u2550\u2550\u2550\u2550\u2550\u2550\u2550\u2550\u255b\n"
       ]
      }
     ],
     "prompt_number": 1
    },
    {
     "cell_type": "code",
     "collapsed": false,
     "input": [],
     "language": "python",
     "metadata": {},
     "outputs": []
    }
   ],
   "metadata": {}
  }
 ]
}