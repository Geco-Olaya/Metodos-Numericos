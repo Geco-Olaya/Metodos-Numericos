{
 "metadata": {
  "name": ""
 },
 "nbformat": 3,
 "nbformat_minor": 0,
 "worksheets": [
  {
   "cells": [
    {
     "cell_type": "code",
     "collapsed": false,
     "input": [
      "import math\n",
      "from tabulate import tabulate\n",
      "import pylab as plt\n",
      "\n",
      "Error_relativo=0\n",
      "ver=0\n",
      "g=9.8\n",
      "m=68.1\n",
      "c=12.5\n",
      "ti=0\n",
      "tii=0\n",
      "ver2=0\n",
      "v_an=0\n",
      "vertorx1=[]\n",
      "vectory1=[]\n",
      "vectorx=[]\n",
      "vectory=[]\n",
      "tab=[]\n",
      "\n",
      "for t in range(400):\n",
      "    dos=t%2\n",
      "    if dos==0:\n",
      "        v=round(((g*m)/c)*(1-math.exp((-c/m)*t)),6)\n",
      "        vectorx.append(t)\n",
      "        vectory.append(v)\n",
      "        ti=ti+2\n",
      "        \n",
      "        ver=round(v_an,6)\n",
      "        v_n=v_an+(g-(c/m)*v_an)*(ti-tii)\n",
      "        v_an=v_n\n",
      "        tii=ti\n",
      "        if t>0:\n",
      "            Error_ver=round(v-ver,6)\n",
      "            Error_r_apro=round(((ver-ver2)/ver)*100,6)\n",
      "            ver2=ver\n",
      "            if str(Error_r_apro)<=\"0.005\":\n",
      "                break \n",
      "            Error_relativo=round((Error_ver/ver)*100,6)\n",
      "            vertorx1.append(abs(Error_relativo));\n",
      "            vectory1.append(Error_r_apro);\n",
      "            tab.append([t,v,ver,Error_ver,Error_relativo,Error_r_apro])\n",
      "\n",
      "print \"                             CAIDA LIBRE: PARACAIDISTA               \\n\"\n",
      "print tabulate(tab,headers=[\"Tiempo\",\"Velocidad Real\", \"Velocidad Aprox\",\"Err. Verd\",\"Err. Relativo\", \"Err. Aprox\"])\n",
      "\n",
      "plt.plot(vertorx1,vectory1,'g')\n",
      "plt.plot(vectorx,vectory,'o')\n",
      "plt.xlabel('(t) - Error Relativo')\n",
      "plt.ylabel('V(t) - Error Relativo Aproximado')\n",
      "plt.title('Paracaidista')\n",
      "plt.grid(True)\n",
      "plt.show()"
     ],
     "language": "python",
     "metadata": {},
     "outputs": [
      {
       "output_type": "stream",
       "stream": "stdout",
       "text": [
        "                             CAIDA LIBRE: PARACAIDISTA               \n",
        "\n",
        "  Tiempo    Velocidad Real    Velocidad Aprox    Err. Verd    Err. Relativo    Err. Aprox\n",
        "--------  ----------------  -----------------  -----------  ---------------  ------------\n",
        "       2           16.405             19.6       -3.19502        -16.3011      100\n",
        "       4           27.7693            32.0047    -4.23541        -13.2337       38.759\n",
        "       6           35.6418            39.8555    -4.21379        -10.5727       19.6983\n",
        "       8           41.0953            44.8243    -3.729           -8.31916      11.0849\n",
        "      10           44.8731            47.969     -3.09583         -6.45382       6.55566\n",
        "      12           47.4902            49.9592    -2.46902         -4.94208       3.98374\n",
        "      14           49.3031            51.2188    -1.91571         -3.74025       2.45928\n",
        "      16           50.559             52.016     -1.45703         -2.80112       1.5326\n",
        "      18           51.429             52.5206    -1.09159         -2.07839       0.960656\n",
        "      20           52.0317            52.8399    -0.808233        -1.52959       0.604318\n",
        "      22           52.4492            53.042     -0.592835        -1.11767       0.381011\n",
        "      24           52.7384            53.1699    -0.431528        -0.811602      0.240559\n",
        "      26           52.9387            53.2508    -0.31213         -0.58615       0.152016\n",
        "      28           53.0775            53.3021    -0.224576        -0.421327      0.096118\n",
        "      30           53.1736            53.3345    -0.160857        -0.3016        0.060796\n",
        "      32           53.2402            53.355     -0.114776        -0.215118      0.038461\n",
        "      34           53.2864            53.368     -0.081627        -0.152951      0.024337\n",
        "      36           53.3183            53.3762    -0.057886        -0.108449      0.0154\n",
        "      38           53.3405            53.3814    -0.040947        -0.076706      0.009745\n",
        "      40           53.3558            53.3847    -0.028903        -0.054141      0.006168\n"
       ]
      }
     ],
     "prompt_number": 13
    },
    {
     "cell_type": "code",
     "collapsed": false,
     "input": [],
     "language": "python",
     "metadata": {},
     "outputs": [],
     "prompt_number": 1
    },
    {
     "cell_type": "code",
     "collapsed": false,
     "input": [],
     "language": "python",
     "metadata": {},
     "outputs": []
    }
   ],
   "metadata": {}
  }
 ]
}