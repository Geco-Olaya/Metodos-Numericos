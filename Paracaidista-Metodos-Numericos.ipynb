{
 "metadata": {
  "name": ""
 },
 "nbformat": 3,
 "nbformat_minor": 0,
 "worksheets": [
  {
   "cells": [
    {
     "cell_type": "code",
     "collapsed": false,
     "input": [
      "import math\n",
      "import matplotlib.pyplot as plt\n",
      "g=9.8\n",
      "m=68.1\n",
      "c=12.5\n",
      "t1=0\n",
      "t2=0\n",
      "velr=0\n",
      "vel=0\n",
      "ejex=[]\n",
      "ejey=[]\n",
      "ejex2=[]\n",
      "ejey2=[]\n",
      "\n",
      "for t in range(50):\n",
      "    v=((g*m)/c)*(1-(math.exp((-c/m)*t)))\n",
      "    velr=vel+(g-(c/m)*vel)*(t2-t1)\n",
      "    \n",
      "    vel=velr\n",
      "    t1=t2\n",
      "    t2=t1+2\n",
      "    \n",
      "    ejex.append(t1)\n",
      "    ejey.append(velr)\n",
      "    ejex2.append(t)\n",
      "    ejey2.append(v)\n",
      "    print \"Solucion: \"+str(velr)\n",
      "    \n",
      "plt.plot(ejex,ejey, 'o')\n",
      "plt.plot(ejex2,ejey2, 'o')\n",
      "plt.ylabel('Velocidad (m/s)')\n",
      "plt.xlabel('Tiempo (s)')\n",
      "plt.axis([0, 100, 0, 100])\n",
      "plt.show()"
     ],
     "language": "python",
     "metadata": {},
     "outputs": [
      {
       "output_type": "stream",
       "stream": "stdout",
       "text": [
        "Solucion: 0.0\n",
        "Solucion: 19.6\n",
        "Solucion: 32.0046989721\n",
        "Solucion: 39.855543696\n",
        "Solucion: 44.8242868326\n",
        "Solucion: 47.9689686121\n",
        "Solucion: 49.9592150834\n",
        "Solucion: 51.2188277547\n",
        "Solucion: 52.0160275511\n",
        "Solucion: 52.5205695661\n",
        "Solucion: 52.8398905771\n",
        "Solucion: 53.0419865473\n",
        "Solucion: 53.1698916327\n",
        "Solucion: 53.250841841\n",
        "Solucion: 53.3020746453\n",
        "Solucion: 53.3344995186\n",
        "Solucion: 53.3550209875\n",
        "Solucion: 53.3680088776\n",
        "Solucion: 53.3762288197\n",
        "Solucion: 53.381431162\n",
        "Solucion: 53.3847236869\n",
        "Solucion: 53.3868075023\n",
        "Solucion: 53.3881263341\n",
        "Solucion: 53.3889610132\n",
        "Solucion: 53.3894892756\n",
        "Solucion: 53.3898236091\n",
        "Solucion: 53.3900352063\n",
        "Solucion: 53.3901691247\n",
        "Solucion: 53.3902538807\n",
        "Solucion: 53.3903075221\n",
        "Solucion: 53.3903414714\n",
        "Solucion: 53.3903629577\n",
        "Solucion: 53.3903765562\n",
        "Solucion: 53.3903851626\n",
        "Solucion: 53.3903906095\n",
        "Solucion: 53.3903940568\n",
        "Solucion: 53.3903962386\n",
        "Solucion: 53.3903976194\n",
        "Solucion: 53.3903984934\n",
        "Solucion: 53.3903990465\n",
        "Solucion: 53.3903993965\n",
        "Solucion: 53.3903996181\n",
        "Solucion: 53.3903997583\n",
        "Solucion: 53.390399847\n",
        "Solucion: 53.3903999032\n",
        "Solucion: 53.3903999387\n",
        "Solucion: 53.3903999612\n",
        "Solucion: 53.3903999755\n",
        "Solucion: 53.3903999845\n",
        "Solucion: 53.3903999902\n"
       ]
      },
      {
       "metadata": {},
       "output_type": "display_data",
       "png": "[encoded data removed]",
       "text": [
        "<matplotlib.figure.Figure at 0x7f0083935610>"
       ]
      }
     ],
     "prompt_number": 25
    },
    {
     "cell_type": "code",
     "collapsed": false,
     "input": [],
     "language": "python",
     "metadata": {},
     "outputs": [],
     "prompt_number": 18
    },
    {
     "cell_type": "code",
     "collapsed": false,
     "input": [],
     "language": "python",
     "metadata": {},
     "outputs": [],
     "prompt_number": 18
    },
    {
     "cell_type": "code",
     "collapsed": false,
     "input": [],
     "language": "python",
     "metadata": {},
     "outputs": []
    }
   ],
   "metadata": {}
  }
 ]
}