{
 "metadata": {
  "name": ""
 },
 "nbformat": 3,
 "nbformat_minor": 0,
 "worksheets": [
  {
   "cells": [
    {
     "cell_type": "code",
     "collapsed": false,
     "input": [
      "import math\n",
      "from tabulate import tabulate \n",
      "\n",
      "k=1\n",
      "l=-5000.002\n",
      "m=10\n",
      "disc=math.pow(l,2)-4*k*m\n",
      "met1=[]\n",
      "met2=[]\n",
      "tabla=[]\n",
      "\n",
      "if(disc<0):\n",
      "    print \"raices imaginarias\"\n",
      "else:\n",
      "    x=(-l+math.sqrt(disc))/(2*k) \n",
      "    x2=(-l-math.sqrt(disc))/(2*k)  \n",
      "    print \"X1= %f and X2= %f\" %(round(x,5),round(x2,5))  \n",
      "met1.append(x)\n",
      "met1.append(x2)\n",
      "\n",
      "xl1=(-2*m)/(l+math.sqrt(disc))\n",
      "xl2=(-2*m)/(l-math.sqrt(disc))\n",
      "print \"X1= %f and X2= %f\" %(round(xl1,5),round(xl2,5)) \n",
      "met2.append(xl1)\n",
      "met2.append(xl2)\n",
      "\n",
      "tabla=([met1[0:],met2[0:]])\n",
      "print\"\\n\"\n",
      "print tabulate(tabla, headers=[\"Proceso 1\", \"Proceso 2\"], tablefmt=\"fancy_grid\")"
     ],
     "language": "python",
     "metadata": {},
     "outputs": [
      {
       "output_type": "stream",
       "stream": "stdout",
       "text": [
        "X1= 5000.000000 and X2= 0.002000\n",
        "X1= 5000.000000 and X2= 0.002000\n",
        "\n",
        "\n",
        "\u2552\u2550\u2550\u2550\u2550\u2550\u2550\u2550\u2550\u2550\u2550\u2550\u2550\u2550\u2564\u2550\u2550\u2550\u2550\u2550\u2550\u2550\u2550\u2550\u2550\u2550\u2550\u2550\u2555\n",
        "\u2502   Proceso 1 \u2502   Proceso 2 \u2502\n",
        "\u255e\u2550\u2550\u2550\u2550\u2550\u2550\u2550\u2550\u2550\u2550\u2550\u2550\u2550\u256a\u2550\u2550\u2550\u2550\u2550\u2550\u2550\u2550\u2550\u2550\u2550\u2550\u2550\u2561\n",
        "\u2502        5000 \u2502       0.002 \u2502\n",
        "\u251c\u2500\u2500\u2500\u2500\u2500\u2500\u2500\u2500\u2500\u2500\u2500\u2500\u2500\u253c\u2500\u2500\u2500\u2500\u2500\u2500\u2500\u2500\u2500\u2500\u2500\u2500\u2500\u2524\n",
        "\u2502        5000 \u2502       0.002 \u2502\n",
        "\u2558\u2550\u2550\u2550\u2550\u2550\u2550\u2550\u2550\u2550\u2550\u2550\u2550\u2550\u2567\u2550\u2550\u2550\u2550\u2550\u2550\u2550\u2550\u2550\u2550\u2550\u2550\u2550\u255b\n"
       ]
      }
     ],
     "prompt_number": 4
    },
    {
     "cell_type": "code",
     "collapsed": false,
     "input": [],
     "language": "python",
     "metadata": {},
     "outputs": []
    }
   ],
   "metadata": {}
  }
 ]
}