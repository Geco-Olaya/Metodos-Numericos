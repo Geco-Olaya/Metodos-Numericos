{
 "metadata": {
  "name": ""
 },
 "nbformat": 3,
 "nbformat_minor": 0,
 "worksheets": [
  {
   "cells": [
    {
     "cell_type": "code",
     "collapsed": false,
     "input": [
      "import math\n",
      "from tabulate import tabulate \n",
      "import matplotlib.pyplot as plt\n",
      "\n",
      "xReal=-1.405\n",
      "a, b, c, xl, xu, xr, x1, x2=-0.5, 2.5, 4.5, 5.0, 10.0, 0.0, 0.0, 0.0\n",
      "cont, x=1, 0\n",
      "table, equis, function, raices, Eaprox=[], [],[], [],[]\n",
      "\n",
      "def cuadratica():\n",
      "    x1=(-b+math.sqrt(math.pow(b,2)-4*a*c))/(2*a)\n",
      "    x2=(-b-math.sqrt(math.pow(b,2)-4*a*c))/(2*a)\n",
      "    if(x1>x2):\n",
      "        xMayor=x1\n",
      "        return xMayor\n",
      "    else:\n",
      "        xMayor=x2\n",
      "        return xMayor\n",
      "\n",
      "def funcion(x):\n",
      "    fx=a*math.pow(x,2)+b*x+c\n",
      "    return fx\n",
      "\n",
      "while (x<10):\n",
      "    equis.append(x)\n",
      "    fxG=a*math.pow(x,2)+b*x+c\n",
      "    function.append(fxG)\n",
      "    x+=0.8\n",
      "    \n",
      "for i in range(0,5):\n",
      "    xr=(xl+xu)/2\n",
      "    raices.append(xr)\n",
      "    fA=funcion(xl)\n",
      "    fB=funcion(xr)\n",
      "    erpv=math.fabs(((cuadratica()-xr)/cuadratica())*100)\n",
      "    if(i==0):\n",
      "        Eaprox.append(\"-----\")\n",
      "        eaprx=100\n",
      "    else:\n",
      "        j=i-1\n",
      "        eaprx=math.fabs(((raices[i]-raices[j])/raices[i])*100)\n",
      "        Eaprox.append(eaprx)\n",
      "    table.append([i+1,xr, str(erpv)+\" %\",str(Eaprox[i])+\" %\"])\n",
      "    if ((fA*fB)<0):\n",
      "        xu=xr\n",
      "    if((fA*fB)>0):\n",
      "         xl=xr\n",
      "\n",
      "print \"Por ecuacion cuadratica obtenemos que la raiz mayor es: x= %f\\n\"%(cuadratica())\n",
      "\n",
      "print tabulate(table, headers=[\"Iteracion\", \"Raiz\", \"Error relativo porcentual verdadero\", \"Error aproximado\"], tablefmt=\"pipe\")\n",
      "\n",
      "plt.title(\"Raiz de la funcion graficamente\")\n",
      "plt.axis([0, 10, -2, 10])\n",
      "plt.ylabel('f(x)')\n",
      "plt.xlabel('x')\n",
      "plt.axhline(0, color=\"black\")\n",
      "plt.plot(equis, function, 'm-', marker='*')\n",
      "plt.plot(cuadratica(),0, 'cs', label='Raiz Exacta=6.405125')\n",
      "plt.legend(loc = 'upper right', numpoints = 1)\n",
      "plt.show()"
     ],
     "language": "python",
     "metadata": {},
     "outputs": [
      {
       "output_type": "stream",
       "stream": "stdout",
       "text": [
        "Por ecuacion cuadratica obtenemos que la raiz mayor es: x= 6.405125\n",
        "\n",
        "|   Iteracion |    Raiz | Error relativo porcentual verdadero   | Error aproximado   |\n",
        "|------------:|--------:|:--------------------------------------|:-------------------|\n",
        "|           1 | 7.5     | 17.0937364961 %                       | ----- %            |\n",
        "|           2 | 6.25    | 2.42188625324 %                       | 20.0 %             |\n",
        "|           3 | 6.875   | 7.33592512143 %                       | 9.09090909091 %    |\n",
        "|           4 | 6.5625  | 2.4570194341 %                        | 4.7619047619 %     |\n",
        "|           5 | 6.40625 | 0.0175665904278 %                     | 2.43902439024 %    |\n"
       ]
      }
     ],
     "prompt_number": 2
    },
    {
     "cell_type": "code",
     "collapsed": false,
     "input": [],
     "language": "python",
     "metadata": {},
     "outputs": []
    }
   ],
   "metadata": {}
  }
 ]
}