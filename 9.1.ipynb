{
 "cells": [
  {
   "cell_type": "code",
   "execution_count": 1,
   "metadata": {
    "collapsed": false
   },
   "outputs": [
    {
     "name": "stdout",
     "output_type": "stream",
     "text": [
      "Ecuacion 1\n",
      "X1 =1\n",
      "X2 =2\n",
      "X3 =3\n",
      "B =4\n",
      "1.0 X1+ 2.0 X2+ 3.0 X3= 4.0\n",
      "Ecuacion 2\n",
      "X1 =5\n",
      "X2 =6\n",
      "X3 =7\n",
      "B =8\n",
      "5.0 X1+ 6.0 X2+ 7.0 X3= 8.0\n",
      "Ecuacion 3\n",
      "X1 =3\n",
      "X2 =2\n",
      "X3 =1\n",
      "B =5\n",
      "3.0 X1+ 2.0 X2+ 1.0 X3= 5.0\n",
      "\n",
      "FORMA MATRICIAL DEL SISTEMA DE ECUACIONES\n",
      "[1.0, 2.0, 3.0] \t [X1]    [4.0]\n",
      "[5.0, 6.0, 7.0] \t [X2] =  [8.0]\n",
      "[3.0, 2.0, 1.0] \t [X3]    [5.0]\n",
      "\n",
      "TRASPUESTA DE LA MATRIZ\n",
      "[1.0, 5.0, 3.0] \t [X1]    [4.0]\n",
      "[2.0, 6.0, 2.0] \t [X2] =  [8.0]\n",
      "[3.0, 7.0, 1.0] \t [X3]    [5.0]\n"
     ]
    }
   ],
   "source": [
    "from tabulate import tabulate\n",
    "matriz = [] \n",
    "matriz1 = [] \n",
    "matriz2 = [] \n",
    "matriz3 = []\n",
    "\n",
    "def ingreso():\n",
    "    for x in range(0,3):\n",
    "        ec = x+1\n",
    "        print (\"Ecuacion %s\" %(ec))\n",
    "        matriz.append([])\n",
    "        matriz1.append([])\n",
    "        matriz2.append([])\n",
    "        matriz3.append([])\n",
    "        for y in range(0,4):\n",
    "            if y==3:\n",
    "                val = float(input(\"B =\"))\n",
    "                matriz[x].append(val)\n",
    "                matriz3[x].append(val)\n",
    "            else:\n",
    "                pos=y+1\n",
    "                val = float(input(\"X%s =\"  %(pos)))\n",
    "                matriz[x].append(val)\n",
    "                matriz1[x].append(val)\n",
    "        print matriz[x][0],\"X1+\",matriz[x][1],\"X2+\",matriz[x][2],\"X3=\",matriz[x][3]\n",
    "    \n",
    "        \n",
    "def puntoa():\n",
    "    print \"\\nFORMA MATRICIAL DEL SISTEMA DE ECUACIONES\"\n",
    "    print matriz1[0],\"\\t [X1]   \", matriz3[0]\n",
    "    print matriz1[1],\"\\t [X2] = \", matriz3[1]\n",
    "    print matriz1[2],\"\\t [X3]   \", matriz3[2]\n",
    "    #print tabulate(matriz3, tablefmt=\"fancy_grid\")\n",
    "def puntob(matriz2):\n",
    "    trans=[]\n",
    "    for i in range(len(matriz2[0])):\n",
    "        trans.append(len(matriz2)*[0])\n",
    "        for j in range(len(trans[0])):\n",
    "            for k in range(len(trans)):\n",
    "                trans[k][j]=matriz2[j][k]\n",
    "    \n",
    "    print \"\\nTRASPUESTA DE LA MATRIZ\"\n",
    "    print trans[0],\"\\t [X1]   \", matriz3[0]\n",
    "    print trans[1],\"\\t [X2] = \", matriz3[1]\n",
    "    print trans[2],\"\\t [X3]   \", matriz3[2]       \n",
    "\n",
    "        \n",
    "\n",
    "ingreso()\n",
    "puntoa()\n",
    "puntob(matriz1)"
   ]
  },
  {
   "cell_type": "code",
   "execution_count": null,
   "metadata": {
    "collapsed": true
   },
   "outputs": [],
   "source": []
  }
 ],
 "metadata": {
  "kernelspec": {
   "display_name": "Python 2",
   "language": "python",
   "name": "python2"
  },
  "language_info": {
   "codemirror_mode": {
    "name": "ipython",
    "version": 2
   },
   "file_extension": ".py",
   "mimetype": "text/x-python",
   "name": "python",
   "nbconvert_exporter": "python",
   "pygments_lexer": "ipython2",
   "version": "2.7.11"
  }
 },
 "nbformat": 4,
 "nbformat_minor": 0
}
