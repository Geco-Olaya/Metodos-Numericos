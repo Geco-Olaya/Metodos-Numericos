{
 "metadata": {
  "name": ""
 },
 "nbformat": 3,
 "nbformat_minor": 0,
 "worksheets": [
  {
   "cells": [
    {
     "cell_type": "code",
     "collapsed": false,
     "input": [
      "import math\n",
      "from tabulate import tabulate\n",
      "import matplotlib.pyplot as plt\n",
      "\n",
      "g, c, v, t=9.8, 15.0, 35.0, 9.0\n",
      "Es=0.1\n",
      "f1,f2,f3=1.0,1.0,1.0\n",
      "table, valores, funcion, tabla, Eaprox, raices=[],[],[],[],[],[]\n",
      "xVerd=59.8523\n",
      "xl=55.0\n",
      "xu=60.0\n",
      "xr=0.0\n",
      "Es=0.001\n",
      "\n",
      "for i in range(-10, 200):\n",
      "    if(i==0):\n",
      "        continue\n",
      "    m=i\n",
      "    fmasa=((g*m)/c)*(1-math.pow(math.e,-(c/m)*t))-v\n",
      "    if(m>0 and m%4==0):\n",
      "        valores.append(m)\n",
      "        funcion.append(fmasa)\n",
      "        #tabla.append([m, fmasa])\n",
      "        \n",
      "def resultado(m):\n",
      "    fm=((g*m)/c)*(1-math.pow(math.e,(-c/m)*t))-v\n",
      "    return fm\n",
      "\n",
      "b=0\n",
      "while 1:\n",
      "    f1=resultado(xl)\n",
      "    f2=resultado(xu)\n",
      "    xr=xu-(f2*(xl-xu))/(f1-f2)\n",
      "    raices.append(xr)\n",
      "    f3=resultado(xr)\n",
      "    erpv=math.fabs(((xVerd-xr)/xVerd)*100)\n",
      "    if(b==0):\n",
      "        Eaprox.append(\"-----\")\n",
      "        eaprx=100\n",
      "    else:\n",
      "        k=b-1\n",
      "        eaprx=math.fabs(((raices[b]-raices[k])/raices[b])*100)\n",
      "        Eaprox.append(eaprx)\n",
      "    table.append([xr, str(erpv)+\" %\", str(Eaprox[b])+\" %\"])\n",
      "    if ((f1*f3)<0):\n",
      "        xu=xr\n",
      "    if((f1*f3)>0):\n",
      "         xl=xr \n",
      "    if(eaprx<Es):\n",
      "        break\n",
      "    b+=1   \n",
      "plt.title(\"MASA\")\n",
      "plt.axis([0, 250, -50, 50])\n",
      "plt.ylabel('f(m)')\n",
      "plt.xlabel('m')\n",
      "plt.axhline(0, color=\"black\")\n",
      "plt.plot(valores, funcion, 'r-', linewidth=2)\n",
      "plt.plot(xVerd,0, 'gs', label='Raiz Exacta=59.8523')\n",
      "plt.legend(loc = 'upper right', numpoints = 1)\n",
      "plt.show()\n",
      "\n",
      "print \"\\nPor metodo de falsa posicion:\\n\"\n",
      "print tabulate(table, headers=[\"f(m)\",\"Erpv\",\"Ea\"])"
     ],
     "language": "python",
     "metadata": {},
     "outputs": [
      {
       "output_type": "stream",
       "stream": "stdout",
       "text": [
        "\n",
        "Por metodo de falsa posicion:\n",
        "\n",
        "   f(m)  Erpv               Ea\n",
        "-------  -----------------  -------------------\n",
        "59.8462  0.0102245892037 %  ----- %\n",
        "59.8412  0.0185279400034 %  0.00830488952462 %\n",
        "59.8411  0.0187960962029 %  0.000268206611906 %\n"
       ]
      }
     ],
     "prompt_number": 3
    },
    {
     "cell_type": "code",
     "collapsed": false,
     "input": [],
     "language": "python",
     "metadata": {},
     "outputs": []
    }
   ],
   "metadata": {}
  }
 ]
}